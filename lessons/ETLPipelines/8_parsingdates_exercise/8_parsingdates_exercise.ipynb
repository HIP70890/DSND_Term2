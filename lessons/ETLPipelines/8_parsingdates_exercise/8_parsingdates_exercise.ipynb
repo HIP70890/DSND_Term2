{
 "cells": [
  {
   "cell_type": "markdown",
   "metadata": {},
   "source": [
    "# Parsing Dates\n",
    "\n",
    "Another common data transformation involves parsing dates. Parsing generally means that you start with a string and then transform that string into a different data type. In this case, that means taking a date in the format of a string and transforming the string into a date type. Run the next cell to see an example."
   ]
  },
  {
   "cell_type": "code",
   "execution_count": 24,
   "metadata": {},
   "outputs": [
    {
     "data": {
      "text/plain": [
       "Timestamp('2017-01-01 00:00:00')"
      ]
     },
     "execution_count": 24,
     "metadata": {},
     "output_type": "execute_result"
    }
   ],
   "source": [
    "import pandas as pd\n",
    "parsed_date = pd.to_datetime('January 1st, 2017')\n",
    "parsed_date"
   ]
  },
  {
   "cell_type": "code",
   "execution_count": 25,
   "metadata": {},
   "outputs": [
    {
     "data": {
      "text/plain": [
       "1"
      ]
     },
     "execution_count": 25,
     "metadata": {},
     "output_type": "execute_result"
    }
   ],
   "source": [
    "parsed_date.month"
   ]
  },
  {
   "cell_type": "code",
   "execution_count": 26,
   "metadata": {},
   "outputs": [
    {
     "data": {
      "text/plain": [
       "2017"
      ]
     },
     "execution_count": 26,
     "metadata": {},
     "output_type": "execute_result"
    }
   ],
   "source": [
    "parsed_date.year"
   ]
  },
  {
   "cell_type": "code",
   "execution_count": 27,
   "metadata": {},
   "outputs": [
    {
     "data": {
      "text/plain": [
       "0"
      ]
     },
     "execution_count": 27,
     "metadata": {},
     "output_type": "execute_result"
    }
   ],
   "source": [
    "parsed_date.second"
   ]
  },
  {
   "cell_type": "markdown",
   "metadata": {},
   "source": [
    "Sometimes date string are formatted in unexpected ways. For example, in the United States, dates are given with the month first and then the day. That is what pandas expects by default. However, some countries write the date with the day first and then the month. Run the next three examples to see Panda's default behavior and how you can specify the date formatting."
   ]
  },
  {
   "cell_type": "code",
   "execution_count": 28,
   "metadata": {},
   "outputs": [
    {
     "data": {
      "text/plain": [
       "5"
      ]
     },
     "execution_count": 28,
     "metadata": {},
     "output_type": "execute_result"
    }
   ],
   "source": [
    "parsed_date = pd.to_datetime('5/3/2017 5:30')\n",
    "parsed_date.month"
   ]
  },
  {
   "cell_type": "code",
   "execution_count": 29,
   "metadata": {},
   "outputs": [
    {
     "data": {
      "text/plain": [
       "5"
      ]
     },
     "execution_count": 29,
     "metadata": {},
     "output_type": "execute_result"
    }
   ],
   "source": [
    "parsed_date = pd.to_datetime('3/5/2017 5:30', format='%d/%m/%Y %H:%M')\n",
    "parsed_date.month"
   ]
  },
  {
   "cell_type": "code",
   "execution_count": 30,
   "metadata": {},
   "outputs": [
    {
     "data": {
      "text/plain": [
       "5"
      ]
     },
     "execution_count": 30,
     "metadata": {},
     "output_type": "execute_result"
    }
   ],
   "source": [
    "parsed_date = pd.to_datetime('5/3/2017 5:30', format='%m/%d/%Y %H:%M')\n",
    "parsed_date.month"
   ]
  },
  {
   "cell_type": "markdown",
   "metadata": {},
   "source": [
    "The formatting abbreviations are actually part of the python standard. You can see examples at [this link](http://strftime.org/)."
   ]
  },
  {
   "cell_type": "markdown",
   "metadata": {},
   "source": [
    "# Part 1 - Practice Parsing Dates\n",
    "\n",
    "Run the code cells below to import the World Bank projects data. The last line of the code outputs all of the column names in the data frame."
   ]
  },
  {
   "cell_type": "code",
   "execution_count": 31,
   "metadata": {},
   "outputs": [
    {
     "data": {
      "text/plain": [
       "Index(['id', 'regionname', 'countryname', 'prodline', 'lendinginstr',\n",
       "       'lendinginstrtype', 'envassesmentcategorycode', 'supplementprojectflg',\n",
       "       'productlinetype', 'projectstatusdisplay', 'status', 'project_name',\n",
       "       'boardapprovaldate', 'board_approval_month', 'closingdate',\n",
       "       'lendprojectcost', 'ibrdcommamt', 'idacommamt', 'totalamt', 'grantamt',\n",
       "       'borrower', 'impagency', 'url', 'projectdoc ', 'majorsector_percent ',\n",
       "       'sector1', 'sector2', 'sector3', 'sector4', 'sector5', 'sector',\n",
       "       'mjsector1', 'mjsector2', 'mjsector3', 'mjsector4', 'mjsector5',\n",
       "       'mjsector', 'theme1', 'theme2', 'theme3', 'theme4', 'theme5', 'theme ',\n",
       "       'goal', 'financier', 'mjtheme1name', 'mjtheme2name', 'mjtheme3name',\n",
       "       'mjtheme4name', 'mjtheme5name', 'location', 'GeoLocID', 'GeoLocName',\n",
       "       'Latitude', 'Longitude', 'Country'],\n",
       "      dtype='object')"
      ]
     },
     "execution_count": 31,
     "metadata": {},
     "output_type": "execute_result"
    }
   ],
   "source": [
    "# Run this code cell. Read in the projects data set with all columns type string\n",
    "df_projects = pd.read_csv('../data/projects_data.csv', dtype=str)\n",
    "df_projects.drop(['Unnamed: 56'], axis=1, inplace=True)\n",
    "df_projects.columns"
   ]
  },
  {
   "cell_type": "markdown",
   "metadata": {},
   "source": [
    "Notice there are three columns associated with dates: boardapprovaldate, board_approval_month, and closingdate. Run the code cell below to see what these values look like."
   ]
  },
  {
   "cell_type": "code",
   "execution_count": 32,
   "metadata": {},
   "outputs": [
    {
     "data": {
      "text/html": [
       "<div>\n",
       "<style scoped>\n",
       "    .dataframe tbody tr th:only-of-type {\n",
       "        vertical-align: middle;\n",
       "    }\n",
       "\n",
       "    .dataframe tbody tr th {\n",
       "        vertical-align: top;\n",
       "    }\n",
       "\n",
       "    .dataframe thead th {\n",
       "        text-align: right;\n",
       "    }\n",
       "</style>\n",
       "<table border=\"1\" class=\"dataframe\">\n",
       "  <thead>\n",
       "    <tr style=\"text-align: right;\">\n",
       "      <th></th>\n",
       "      <th>boardapprovaldate</th>\n",
       "      <th>board_approval_month</th>\n",
       "      <th>closingdate</th>\n",
       "    </tr>\n",
       "  </thead>\n",
       "  <tbody>\n",
       "    <tr>\n",
       "      <th>0</th>\n",
       "      <td>2018-06-28T00:00:00Z</td>\n",
       "      <td>June</td>\n",
       "      <td>NaN</td>\n",
       "    </tr>\n",
       "    <tr>\n",
       "      <th>1</th>\n",
       "      <td>2018-06-28T00:00:00Z</td>\n",
       "      <td>June</td>\n",
       "      <td>2023-12-31T00:00:00Z</td>\n",
       "    </tr>\n",
       "    <tr>\n",
       "      <th>2</th>\n",
       "      <td>2018-06-28T00:00:00Z</td>\n",
       "      <td>June</td>\n",
       "      <td>NaN</td>\n",
       "    </tr>\n",
       "    <tr>\n",
       "      <th>3</th>\n",
       "      <td>2018-06-27T00:00:00Z</td>\n",
       "      <td>June</td>\n",
       "      <td>2023-06-28T00:00:00Z</td>\n",
       "    </tr>\n",
       "    <tr>\n",
       "      <th>4</th>\n",
       "      <td>2018-06-27T00:00:00Z</td>\n",
       "      <td>June</td>\n",
       "      <td>2023-05-31T00:00:00Z</td>\n",
       "    </tr>\n",
       "    <tr>\n",
       "      <th>5</th>\n",
       "      <td>2018-06-27T00:00:00Z</td>\n",
       "      <td>June</td>\n",
       "      <td>2019-12-31T00:00:00Z</td>\n",
       "    </tr>\n",
       "    <tr>\n",
       "      <th>6</th>\n",
       "      <td>2018-06-27T00:00:00Z</td>\n",
       "      <td>June</td>\n",
       "      <td>2023-10-31T00:00:00Z</td>\n",
       "    </tr>\n",
       "    <tr>\n",
       "      <th>7</th>\n",
       "      <td>2018-06-27T00:00:00Z</td>\n",
       "      <td>June</td>\n",
       "      <td>2023-12-31T00:00:00Z</td>\n",
       "    </tr>\n",
       "    <tr>\n",
       "      <th>8</th>\n",
       "      <td>2018-06-27T00:00:00Z</td>\n",
       "      <td>June</td>\n",
       "      <td>2022-12-31T00:00:00Z</td>\n",
       "    </tr>\n",
       "    <tr>\n",
       "      <th>9</th>\n",
       "      <td>2018-06-27T00:00:00Z</td>\n",
       "      <td>June</td>\n",
       "      <td>2023-12-31T00:00:00Z</td>\n",
       "    </tr>\n",
       "    <tr>\n",
       "      <th>10</th>\n",
       "      <td>2018-06-27T00:00:00Z</td>\n",
       "      <td>June</td>\n",
       "      <td>2023-12-31T00:00:00Z</td>\n",
       "    </tr>\n",
       "    <tr>\n",
       "      <th>11</th>\n",
       "      <td>2018-06-27T00:00:00Z</td>\n",
       "      <td>June</td>\n",
       "      <td>NaN</td>\n",
       "    </tr>\n",
       "    <tr>\n",
       "      <th>12</th>\n",
       "      <td>2018-06-27T00:00:00Z</td>\n",
       "      <td>June</td>\n",
       "      <td>NaN</td>\n",
       "    </tr>\n",
       "    <tr>\n",
       "      <th>13</th>\n",
       "      <td>2018-06-27T00:00:00Z</td>\n",
       "      <td>June</td>\n",
       "      <td>NaN</td>\n",
       "    </tr>\n",
       "    <tr>\n",
       "      <th>14</th>\n",
       "      <td>2018-06-27T00:00:00Z</td>\n",
       "      <td>June</td>\n",
       "      <td>NaN</td>\n",
       "    </tr>\n",
       "  </tbody>\n",
       "</table>\n",
       "</div>"
      ],
      "text/plain": [
       "       boardapprovaldate board_approval_month           closingdate\n",
       "0   2018-06-28T00:00:00Z                 June                   NaN\n",
       "1   2018-06-28T00:00:00Z                 June  2023-12-31T00:00:00Z\n",
       "2   2018-06-28T00:00:00Z                 June                   NaN\n",
       "3   2018-06-27T00:00:00Z                 June  2023-06-28T00:00:00Z\n",
       "4   2018-06-27T00:00:00Z                 June  2023-05-31T00:00:00Z\n",
       "5   2018-06-27T00:00:00Z                 June  2019-12-31T00:00:00Z\n",
       "6   2018-06-27T00:00:00Z                 June  2023-10-31T00:00:00Z\n",
       "7   2018-06-27T00:00:00Z                 June  2023-12-31T00:00:00Z\n",
       "8   2018-06-27T00:00:00Z                 June  2022-12-31T00:00:00Z\n",
       "9   2018-06-27T00:00:00Z                 June  2023-12-31T00:00:00Z\n",
       "10  2018-06-27T00:00:00Z                 June  2023-12-31T00:00:00Z\n",
       "11  2018-06-27T00:00:00Z                 June                   NaN\n",
       "12  2018-06-27T00:00:00Z                 June                   NaN\n",
       "13  2018-06-27T00:00:00Z                 June                   NaN\n",
       "14  2018-06-27T00:00:00Z                 June                   NaN"
      ]
     },
     "execution_count": 32,
     "metadata": {},
     "output_type": "execute_result"
    }
   ],
   "source": [
    "# Run this code cell\n",
    "df_projects.head(15)[['boardapprovaldate', 'board_approval_month', 'closingdate']]"
   ]
  },
  {
   "cell_type": "markdown",
   "metadata": {},
   "source": [
    "Use the pandas to_datetime method to convert the boardapprovaldate and closingdate columns into datetime objects."
   ]
  },
  {
   "cell_type": "code",
   "execution_count": 33,
   "metadata": {},
   "outputs": [],
   "source": [
    "# TODO: Use the pandas to_datetime method to convert these two columns \n",
    "#   (boardapprovaldate, closingdate) into date times.\n",
    "# HINT: It's easier to do this one column at a time\n",
    "\n",
    "df_projects['boardapprovaldate'] = pd.to_datetime(df_projects['boardapprovaldate'], format='%Y-%m-%dT%H:%M:%SZ')\n",
    "df_projects['closingdate'] = pd.to_datetime(df_projects['closingdate'], format='%Y-%m-%dT%H:%M:%SZ')"
   ]
  },
  {
   "cell_type": "code",
   "execution_count": 34,
   "metadata": {},
   "outputs": [
    {
     "data": {
      "text/plain": [
       "0        0.0\n",
       "1        0.0\n",
       "2        0.0\n",
       "3        0.0\n",
       "4        0.0\n",
       "5        0.0\n",
       "6        0.0\n",
       "7        0.0\n",
       "8        0.0\n",
       "9        0.0\n",
       "10       0.0\n",
       "11       0.0\n",
       "12       0.0\n",
       "13       0.0\n",
       "14       0.0\n",
       "15       0.0\n",
       "16       0.0\n",
       "17       0.0\n",
       "18       0.0\n",
       "19       0.0\n",
       "20       0.0\n",
       "21       0.0\n",
       "22       0.0\n",
       "23       0.0\n",
       "24       0.0\n",
       "25       0.0\n",
       "26       0.0\n",
       "27       0.0\n",
       "28       0.0\n",
       "29       0.0\n",
       "        ... \n",
       "18218    0.0\n",
       "18219    0.0\n",
       "18220    0.0\n",
       "18221    0.0\n",
       "18222    0.0\n",
       "18223    0.0\n",
       "18224    0.0\n",
       "18225    0.0\n",
       "18226    0.0\n",
       "18227    0.0\n",
       "18228    0.0\n",
       "18229    0.0\n",
       "18230    0.0\n",
       "18231    0.0\n",
       "18232    0.0\n",
       "18233    0.0\n",
       "18234    0.0\n",
       "18235    0.0\n",
       "18236    0.0\n",
       "18237    0.0\n",
       "18238    0.0\n",
       "18239    0.0\n",
       "18240    0.0\n",
       "18241    0.0\n",
       "18242    0.0\n",
       "18243    0.0\n",
       "18244    0.0\n",
       "18245    0.0\n",
       "18246    0.0\n",
       "18247    0.0\n",
       "Name: boardapprovaldate, Length: 18248, dtype: float64"
      ]
     },
     "execution_count": 34,
     "metadata": {},
     "output_type": "execute_result"
    }
   ],
   "source": [
    "# Run the code cells below to see how you can access the different parts of the datetime objects\n",
    "# Series.dt gives access to the datetime object as explained here: https://pandas.pydata.org/pandas-docs/stable/generated/pandas.Series.dt.html\n",
    "df_projects['boardapprovaldate'].dt.second"
   ]
  },
  {
   "cell_type": "code",
   "execution_count": 35,
   "metadata": {},
   "outputs": [
    {
     "data": {
      "text/plain": [
       "0         6.0\n",
       "1         6.0\n",
       "2         6.0\n",
       "3         6.0\n",
       "4         6.0\n",
       "5         6.0\n",
       "6         6.0\n",
       "7         6.0\n",
       "8         6.0\n",
       "9         6.0\n",
       "10        6.0\n",
       "11        6.0\n",
       "12        6.0\n",
       "13        6.0\n",
       "14        6.0\n",
       "15        6.0\n",
       "16        6.0\n",
       "17        6.0\n",
       "18        6.0\n",
       "19        6.0\n",
       "20        6.0\n",
       "21        6.0\n",
       "22        6.0\n",
       "23        6.0\n",
       "24        6.0\n",
       "25        6.0\n",
       "26        6.0\n",
       "27        6.0\n",
       "28        6.0\n",
       "29        6.0\n",
       "         ... \n",
       "18218     9.0\n",
       "18219     8.0\n",
       "18220     8.0\n",
       "18221     7.0\n",
       "18222     7.0\n",
       "18223     6.0\n",
       "18224     5.0\n",
       "18225     4.0\n",
       "18226     4.0\n",
       "18227    12.0\n",
       "18228    10.0\n",
       "18229    10.0\n",
       "18230     9.0\n",
       "18231     8.0\n",
       "18232     8.0\n",
       "18233     7.0\n",
       "18234     7.0\n",
       "18235     2.0\n",
       "18236     1.0\n",
       "18237     1.0\n",
       "18238     1.0\n",
       "18239     7.0\n",
       "18240     7.0\n",
       "18241     7.0\n",
       "18242     3.0\n",
       "18243     3.0\n",
       "18244     8.0\n",
       "18245     8.0\n",
       "18246     8.0\n",
       "18247     5.0\n",
       "Name: boardapprovaldate, Length: 18248, dtype: float64"
      ]
     },
     "execution_count": 35,
     "metadata": {},
     "output_type": "execute_result"
    }
   ],
   "source": [
    "# Run this code cell to see the output\n",
    "df_projects['boardapprovaldate'].dt.month"
   ]
  },
  {
   "cell_type": "code",
   "execution_count": 36,
   "metadata": {},
   "outputs": [
    {
     "data": {
      "text/plain": [
       "0        3.0\n",
       "1        3.0\n",
       "2        3.0\n",
       "3        2.0\n",
       "4        2.0\n",
       "5        2.0\n",
       "6        2.0\n",
       "7        2.0\n",
       "8        2.0\n",
       "9        2.0\n",
       "10       2.0\n",
       "11       2.0\n",
       "12       2.0\n",
       "13       2.0\n",
       "14       2.0\n",
       "15       2.0\n",
       "16       2.0\n",
       "17       2.0\n",
       "18       1.0\n",
       "19       1.0\n",
       "20       1.0\n",
       "21       1.0\n",
       "22       1.0\n",
       "23       0.0\n",
       "24       5.0\n",
       "25       4.0\n",
       "26       4.0\n",
       "27       4.0\n",
       "28       4.0\n",
       "29       4.0\n",
       "        ... \n",
       "18218    2.0\n",
       "18219    4.0\n",
       "18220    1.0\n",
       "18221    4.0\n",
       "18222    4.0\n",
       "18223    2.0\n",
       "18224    4.0\n",
       "18225    4.0\n",
       "18226    1.0\n",
       "18227    2.0\n",
       "18228    0.0\n",
       "18229    3.0\n",
       "18230    3.0\n",
       "18231    4.0\n",
       "18232    3.0\n",
       "18233    1.0\n",
       "18234    2.0\n",
       "18235    1.0\n",
       "18236    3.0\n",
       "18237    3.0\n",
       "18238    3.0\n",
       "18239    3.0\n",
       "18240    3.0\n",
       "18241    3.0\n",
       "18242    3.0\n",
       "18243    3.0\n",
       "18244    3.0\n",
       "18245    4.0\n",
       "18246    3.0\n",
       "18247    4.0\n",
       "Name: boardapprovaldate, Length: 18248, dtype: float64"
      ]
     },
     "execution_count": 36,
     "metadata": {},
     "output_type": "execute_result"
    }
   ],
   "source": [
    "# Run this code to see the output\n",
    "# weekday represents the day of the week from 0 (Monday) to 6 (Sunday).\n",
    "df_projects['boardapprovaldate'].dt.weekday"
   ]
  },
  {
   "cell_type": "markdown",
   "metadata": {},
   "source": [
    "# Part 2 - Create new columns\n",
    "\n",
    "Now that the boardapprovaldate and closingdates are in datetime formats, create a few new columns in the df_projects data frame:\n",
    "* approvalyear\n",
    "* approvalday\n",
    "* approvalweekday\n",
    "* closingyear\n",
    "* closingday\n",
    "* closingweekday"
   ]
  },
  {
   "cell_type": "code",
   "execution_count": 37,
   "metadata": {},
   "outputs": [],
   "source": [
    "### \n",
    "# TODO create the follwing new columns in the df_projects data frame\n",
    "#\n",
    "# approvalyear\n",
    "# approvalday\n",
    "# approvalweekday\n",
    "# closingyear\n",
    "# closingday\n",
    "# closingweekday\n",
    "#\n",
    "#\n",
    "###\n",
    "\n",
    "df_projects['approvalyear'] = df_projects['boardapprovaldate'].dt.year\n",
    "df_projects['approvalday'] = df_projects['boardapprovaldate'].dt.day\n",
    "df_projects['approvalweekday'] = df_projects['boardapprovaldate'].dt.weekday\n",
    "df_projects['closingyear'] = df_projects['closingdate'].dt.year\n",
    "df_projects['closingday'] = df_projects['closingdate'].dt.day\n",
    "df_projects['closingweekday'] = df_projects['closingdate'].dt.weekday"
   ]
  },
  {
   "cell_type": "code",
   "execution_count": 38,
   "metadata": {},
   "outputs": [
    {
     "data": {
      "text/plain": [
       "0    28.0\n",
       "1    28.0\n",
       "2    28.0\n",
       "3    27.0\n",
       "4    27.0\n",
       "Name: approvalday, dtype: float64"
      ]
     },
     "execution_count": 38,
     "metadata": {},
     "output_type": "execute_result"
    }
   ],
   "source": [
    "df_projects.head()['approvalday']"
   ]
  },
  {
   "cell_type": "markdown",
   "metadata": {},
   "source": [
    "# Part 3 (Challenge)\n",
    "\n",
    "Use what you've practiced in this exercise to make a visualization of year on the x-axis and the sum of the totalamt columns per year on the y-axis. \n",
    "\n",
    "You'll first need to clean the totalamt column to get rid of commas and convert the values to numeric. Then you'll need to use pandas' groupby method to sum the totalamt column for each year. \n",
    "\n",
    "Finally, you can use the pandas plot() method to output the visualization."
   ]
  },
  {
   "cell_type": "code",
   "execution_count": 39,
   "metadata": {},
   "outputs": [],
   "source": [
    "###\n",
    "# TODO: Make a visualization with year on the x-axis and the sum of the totalamt columns per year on the y-axis\n",
    "# HINT: The totalamt column is currently a string with commas. For example 100,250,364. You'll need to remove the\n",
    "#         commas and convert the column to a numeric variable.\n",
    "# HINT: pandas groupby, sum, and plot methods should also be helpful\n",
    "####\n",
    "\n",
    "import matplotlib.pyplot as plt\n",
    "%matplotlib inline\n",
    "\n",
    "# TODO: Step 1 - convert the totalamt column from string to numeric. Be sure to remove the commas in this column\n",
    "df_projects['totalamt'] = df_projects['totalamt'].str.replace(',','').astype(int)\n"
   ]
  },
  {
   "cell_type": "code",
   "execution_count": 46,
   "metadata": {},
   "outputs": [
    {
     "data": {
      "text/plain": [
       "<Container object of 72 artists>"
      ]
     },
     "execution_count": 46,
     "metadata": {},
     "output_type": "execute_result"
    },
    {
     "data": {
      "image/png": "[encoded data removed]",
      "text/plain": [
       "<matplotlib.figure.Figure at 0x7effeab1e908>"
      ]
     },
     "metadata": {
      "needs_background": "light"
     },
     "output_type": "display_data"
    }
   ],
   "source": [
    "# TODO: Step 2 - calculate the sum of the totalamt column by year and plot the results with a line plot\n",
    "totals_per_year = df_projects.groupby(['approvalyear']).sum()\n",
    "\n",
    "plt.bar(x=totals_per_year.index, height=totals_per_year['totalamt'])"
   ]
  },
  {
   "cell_type": "markdown",
   "metadata": {},
   "source": [
    "# Conclusion\n",
    "\n",
    "Parsing dates is a common task data transformation task. This is true not just with pandas but with other data systems like [SQL](http://www-db.deis.unibo.it/courses/TW/DOCS/w3schools/sql/sql_dates.asp.html)."
   ]
  }
 ],
 "metadata": {
  "kernelspec": {
   "display_name": "Python 3",
   "language": "python",
   "name": "python3"
  },
  "language_info": {
   "codemirror_mode": {
    "name": "ipython",
    "version": 3
   },
   "file_extension": ".py",
   "mimetype": "text/x-python",
   "name": "python",
   "nbconvert_exporter": "python",
   "pygments_lexer": "ipython3",
   "version": "3.6.3"
  }
 },
 "nbformat": 4,
 "nbformat_minor": 2
}
